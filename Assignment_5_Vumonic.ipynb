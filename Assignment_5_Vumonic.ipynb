{
  "nbformat": 4,
  "nbformat_minor": 0,
  "metadata": {
    "colab": {
      "name": "Assignment_5_Vumonic.ipynb",
      "provenance": [],
      "collapsed_sections": [],
      "authorship_tag": "ABX9TyP+jQeEaQt+qWw0R4QCxnvz",
      "include_colab_link": true
    },
    "kernelspec": {
      "name": "python3",
      "display_name": "Python 3"
    }
  },
  "cells": [
    {
      "cell_type": "markdown",
      "metadata": {
        "id": "view-in-github",
        "colab_type": "text"
      },
      "source": [
        "<a href=\"https://colab.research.google.com/github/ajay-nrg/Covid_19_Assignment/blob/master/Assignment_5_Vumonic.ipynb\" target=\"_parent\"><img src=\"https://colab.research.google.com/assets/colab-badge.svg\" alt=\"Open In Colab\"/></a>"
      ]
    },
    {
      "cell_type": "markdown",
      "metadata": {
        "id": "mpfvD9NWkYHf",
        "colab_type": "text"
      },
      "source": [
        "#Prediction of Recoveries, Deaths and confirmed cases over worldwide"
      ]
    },
    {
      "cell_type": "code",
      "metadata": {
        "id": "BgbwFnkvkTmV",
        "colab_type": "code",
        "colab": {
          "base_uri": "https://localhost:8080/",
          "height": 72
        },
        "outputId": "d3619946-cfd0-463a-c510-5254fdba4668"
      },
      "source": [
        "import pandas as pd\n",
        "import matplotlib.pyplot as plt\n",
        "import numpy as np \n",
        "import seaborn as sns\n",
        "%matplotlib notebook"
      ],
      "execution_count": null,
      "outputs": [
        {
          "output_type": "stream",
          "text": [
            "/usr/local/lib/python3.6/dist-packages/statsmodels/tools/_testing.py:19: FutureWarning: pandas.util.testing is deprecated. Use the functions in the public API at pandas.testing instead.\n",
            "  import pandas.util.testing as tm\n"
          ],
          "name": "stderr"
        }
      ]
    },
    {
      "cell_type": "code",
      "metadata": {
        "id": "7SEMmSa-kl_8",
        "colab_type": "code",
        "colab": {}
      },
      "source": [
        "df = pd.read_csv('/content/csse_daily.csv')\n",
        "df_cases = pd.read_csv('/content/time_series_covid19_confirmed_global.csv')\n",
        "df_deaths = pd.read_csv('/content/time_series_covid19_deaths_global.csv')\n",
        "df_recovery = pd.read_csv('/content/time_series_covid19_recovered_global.csv')"
      ],
      "execution_count": null,
      "outputs": []
    },
    {
      "cell_type": "code",
      "metadata": {
        "id": "ELZzkBNUlNdr",
        "colab_type": "code",
        "colab": {}
      },
      "source": [
        "df_cases = df_cases.drop(['Province/State','Country/Region','Lat','Long'], axis=1)\n",
        "df_cases = df_cases.sum(axis=0)\n",
        "df_cases = pd.DataFrame(data=df_cases,columns=['No of cases'],index=None)\n",
        "df_cases['Date'] = df_cases.index\n",
        "df_cases.reset_index(level=None, drop=False, inplace=True, col_level=0, col_fill='')\n",
        "df_cases.drop(columns=['index'],inplace=True)\n",
        "df_cases['Date'] = pd.to_datetime(df_cases['Date'])\n",
        "\n",
        "df_deaths = df_deaths.drop(['Province/State','Country/Region','Lat','Long'], axis=1)\n",
        "df_deaths = df_deaths.sum(axis=0)\n",
        "df_deaths = pd.DataFrame(data=df_deaths,columns=['Deaths'],index=None)\n",
        "df_deaths['Date'] = df_deaths.index\n",
        "df_deaths.reset_index(level=None, drop=False, inplace=True, col_level=0, col_fill='')\n",
        "df_deaths.drop(columns=['index'],inplace=True)\n",
        "df_deaths['Date'] = pd.to_datetime(df_deaths['Date'])\n",
        "\n",
        "df_recovery = df_recovery.drop(['Province/State','Country/Region','Lat','Long'], axis=1)\n",
        "df_recovery = df_recovery.sum(axis=0)\n",
        "df_recovery = pd.DataFrame(data=df_recovery,columns=['Recovered'],index=None)\n",
        "df_recovery['Date'] = df_recovery.index\n",
        "df_recovery.reset_index(level=None, drop=False, inplace=True, col_level=0, col_fill='')\n",
        "df_recovery.drop(columns=['index'],inplace=True)\n",
        "df_recovery['Date'] = pd.to_datetime(df_recovery['Date'])"
      ],
      "execution_count": null,
      "outputs": []
    },
    {
      "cell_type": "code",
      "metadata": {
        "id": "QKOXxPQjliVR",
        "colab_type": "code",
        "colab": {}
      },
      "source": [
        "days = pd.Series(data=np.arange(1,175))"
      ],
      "execution_count": null,
      "outputs": []
    },
    {
      "cell_type": "code",
      "metadata": {
        "id": "BgLclEb1lcq5",
        "colab_type": "code",
        "colab": {}
      },
      "source": [
        "df_all = pd.DataFrame()\n",
        "df_all['Day'] = days\n",
        "df_all['Cases'] = df_cases['No of cases']\n",
        "df_all['Recovered'] = df_recovery['Recovered']\n",
        "df_all['Deaths'] = df_deaths['Deaths']"
      ],
      "execution_count": null,
      "outputs": []
    },
    {
      "cell_type": "code",
      "metadata": {
        "id": "gzck0is-lghJ",
        "colab_type": "code",
        "colab": {
          "base_uri": "https://localhost:8080/",
          "height": 203
        },
        "outputId": "7db3de41-a871-4078-f5e3-05b4a902f4db"
      },
      "source": [
        "df_all.head()"
      ],
      "execution_count": null,
      "outputs": [
        {
          "output_type": "execute_result",
          "data": {
            "text/html": [
              "<div>\n",
              "<style scoped>\n",
              "    .dataframe tbody tr th:only-of-type {\n",
              "        vertical-align: middle;\n",
              "    }\n",
              "\n",
              "    .dataframe tbody tr th {\n",
              "        vertical-align: top;\n",
              "    }\n",
              "\n",
              "    .dataframe thead th {\n",
              "        text-align: right;\n",
              "    }\n",
              "</style>\n",
              "<table border=\"1\" class=\"dataframe\">\n",
              "  <thead>\n",
              "    <tr style=\"text-align: right;\">\n",
              "      <th></th>\n",
              "      <th>Day</th>\n",
              "      <th>Cases</th>\n",
              "      <th>Recovered</th>\n",
              "      <th>Deaths</th>\n",
              "    </tr>\n",
              "  </thead>\n",
              "  <tbody>\n",
              "    <tr>\n",
              "      <th>0</th>\n",
              "      <td>1</td>\n",
              "      <td>555</td>\n",
              "      <td>28</td>\n",
              "      <td>17</td>\n",
              "    </tr>\n",
              "    <tr>\n",
              "      <th>1</th>\n",
              "      <td>2</td>\n",
              "      <td>654</td>\n",
              "      <td>30</td>\n",
              "      <td>18</td>\n",
              "    </tr>\n",
              "    <tr>\n",
              "      <th>2</th>\n",
              "      <td>3</td>\n",
              "      <td>941</td>\n",
              "      <td>36</td>\n",
              "      <td>26</td>\n",
              "    </tr>\n",
              "    <tr>\n",
              "      <th>3</th>\n",
              "      <td>4</td>\n",
              "      <td>1434</td>\n",
              "      <td>39</td>\n",
              "      <td>42</td>\n",
              "    </tr>\n",
              "    <tr>\n",
              "      <th>4</th>\n",
              "      <td>5</td>\n",
              "      <td>2118</td>\n",
              "      <td>52</td>\n",
              "      <td>56</td>\n",
              "    </tr>\n",
              "  </tbody>\n",
              "</table>\n",
              "</div>"
            ],
            "text/plain": [
              "   Day  Cases  Recovered  Deaths\n",
              "0    1    555         28      17\n",
              "1    2    654         30      18\n",
              "2    3    941         36      26\n",
              "3    4   1434         39      42\n",
              "4    5   2118         52      56"
            ]
          },
          "metadata": {
            "tags": []
          },
          "execution_count": 7
        }
      ]
    },
    {
      "cell_type": "code",
      "metadata": {
        "id": "7saSrfDplntc",
        "colab_type": "code",
        "colab": {}
      },
      "source": [
        "from sklearn.linear_model import LinearRegression\n",
        "from sklearn.model_selection import train_test_split"
      ],
      "execution_count": null,
      "outputs": []
    },
    {
      "cell_type": "markdown",
      "metadata": {
        "id": "pmMgFNKMnXaU",
        "colab_type": "text"
      },
      "source": [
        "######Predicting model for Cases"
      ]
    },
    {
      "cell_type": "code",
      "metadata": {
        "id": "XuRtJxyLmGpH",
        "colab_type": "code",
        "colab": {}
      },
      "source": [
        "X = df_all[['Day']]\n",
        "y = df_all['Cases']\n",
        "xtrain,xtest, ytrain, ytest = train_test_split(X,y)"
      ],
      "execution_count": null,
      "outputs": []
    },
    {
      "cell_type": "code",
      "metadata": {
        "id": "IpOTE6OWmUq_",
        "colab_type": "code",
        "colab": {
          "base_uri": "https://localhost:8080/",
          "height": 52
        },
        "outputId": "f3dbc4fb-a936-4e48-9edc-75c161896c09"
      },
      "source": [
        "print(xtrain.shape, ytrain.shape)\n",
        "print(xtest.shape,ytest.shape)"
      ],
      "execution_count": null,
      "outputs": [
        {
          "output_type": "stream",
          "text": [
            "(130, 1) (130,)\n",
            "(44, 1) (44,)\n"
          ],
          "name": "stdout"
        }
      ]
    },
    {
      "cell_type": "code",
      "metadata": {
        "id": "JEf5wLsumhDM",
        "colab_type": "code",
        "colab": {
          "base_uri": "https://localhost:8080/",
          "height": 34
        },
        "outputId": "5b618bf0-8f68-49d1-f9d6-9716c80d341d"
      },
      "source": [
        "lr = LinearRegression()\n",
        "lr.fit(xtrain,ytrain)"
      ],
      "execution_count": null,
      "outputs": [
        {
          "output_type": "execute_result",
          "data": {
            "text/plain": [
              "LinearRegression(copy_X=True, fit_intercept=True, n_jobs=None, normalize=False)"
            ]
          },
          "metadata": {
            "tags": []
          },
          "execution_count": 15
        }
      ]
    },
    {
      "cell_type": "code",
      "metadata": {
        "id": "baNPCJAhmv75",
        "colab_type": "code",
        "colab": {
          "base_uri": "https://localhost:8080/",
          "height": 34
        },
        "outputId": "6b1f7235-7765-4656-a1a8-fb4516c4d512"
      },
      "source": [
        "lr.score(xtest,ytest)"
      ],
      "execution_count": null,
      "outputs": [
        {
          "output_type": "execute_result",
          "data": {
            "text/plain": [
              "0.9006152578243074"
            ]
          },
          "metadata": {
            "tags": []
          },
          "execution_count": 16
        }
      ]
    },
    {
      "cell_type": "markdown",
      "metadata": {
        "id": "g6_p40ZFnhXa",
        "colab_type": "text"
      },
      "source": [
        "######Predicting model for Recovery"
      ]
    },
    {
      "cell_type": "code",
      "metadata": {
        "id": "9KnIdTatnNCY",
        "colab_type": "code",
        "colab": {
          "base_uri": "https://localhost:8080/",
          "height": 34
        },
        "outputId": "b720713b-e950-4a50-9d7e-3449fe02c163"
      },
      "source": [
        "X = df_all[['Day']]\n",
        "y = df_all['Recovered']\n",
        "xtrain,xtest, ytrain, ytest = train_test_split(X,y)\n",
        "\n",
        "lr = LinearRegression()\n",
        "lr.fit(xtrain,ytrain)\n",
        "\n",
        "lr.score(xtest,ytest)"
      ],
      "execution_count": null,
      "outputs": [
        {
          "output_type": "execute_result",
          "data": {
            "text/plain": [
              "0.7416447577246884"
            ]
          },
          "metadata": {
            "tags": []
          },
          "execution_count": 17
        }
      ]
    },
    {
      "cell_type": "markdown",
      "metadata": {
        "id": "Lz4Y9LKLnyXU",
        "colab_type": "text"
      },
      "source": [
        "######Predicting model for Deaths"
      ]
    },
    {
      "cell_type": "code",
      "metadata": {
        "id": "Vty4LvtvnuZD",
        "colab_type": "code",
        "colab": {
          "base_uri": "https://localhost:8080/",
          "height": 34
        },
        "outputId": "df22b353-68a3-479e-b70e-74f7befd27d9"
      },
      "source": [
        "X = df_all[['Day']]\n",
        "y = df_all['Deaths']\n",
        "xtrain,xtest, ytrain, ytest = train_test_split(X,y)\n",
        "\n",
        "lr = LinearRegression()\n",
        "lr.fit(xtrain,ytrain)\n",
        "\n",
        "lr.score(xtest,ytest)"
      ],
      "execution_count": null,
      "outputs": [
        {
          "output_type": "execute_result",
          "data": {
            "text/plain": [
              "0.9262404093882997"
            ]
          },
          "metadata": {
            "tags": []
          },
          "execution_count": 18
        }
      ]
    },
    {
      "cell_type": "code",
      "metadata": {
        "id": "Ukl5LIg1n5ae",
        "colab_type": "code",
        "colab": {}
      },
      "source": [
        ""
      ],
      "execution_count": null,
      "outputs": []
    }
  ]
}